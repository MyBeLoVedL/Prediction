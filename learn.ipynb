{
 "cells": [
  {
   "cell_type": "code",
   "execution_count": 2,
   "metadata": {},
   "outputs": [],
   "source": [
    "import pandas as pd \n",
    "import matplotlib as plt\n",
    "import numpy as np\n",
    "# import pandas.Series \n",
    "\n",
    "arr = pd.Series([-2,3,4],index=['a','Vega','c'])\n",
    "stuff = {'Lee':21,'Vega':20,'Jack':12}\n",
    "sd = pd.Series(stuff, index = ['Vega','Jack','Altair'])\n"
   ]
  },
  {
   "cell_type": "code",
   "execution_count": 141,
   "metadata": {},
   "outputs": [
    {
     "data": {
      "text/html": "<div>\n<style scoped>\n    .dataframe tbody tr th:only-of-type {\n        vertical-align: middle;\n    }\n\n    .dataframe tbody tr th {\n        vertical-align: top;\n    }\n\n    .dataframe thead th {\n        text-align: right;\n    }\n</style>\n<table border=\"1\" class=\"dataframe\">\n  <thead>\n    <tr style=\"text-align: right;\">\n      <th></th>\n      <th>GDP</th>\n      <th>Pop</th>\n      <th>Debt</th>\n    </tr>\n  </thead>\n  <tbody>\n    <tr>\n      <th>count</th>\n      <td>3.00000</td>\n      <td>3.000000</td>\n      <td>2.000000</td>\n    </tr>\n    <tr>\n      <th>mean</th>\n      <td>39.00000</td>\n      <td>1.266667</td>\n      <td>-1.500000</td>\n    </tr>\n    <tr>\n      <th>std</th>\n      <td>14.73092</td>\n      <td>1.001665</td>\n      <td>0.707107</td>\n    </tr>\n    <tr>\n      <th>min</th>\n      <td>23.00000</td>\n      <td>0.300000</td>\n      <td>-2.000000</td>\n    </tr>\n    <tr>\n      <th>25%</th>\n      <td>32.50000</td>\n      <td>0.750000</td>\n      <td>-1.750000</td>\n    </tr>\n    <tr>\n      <th>50%</th>\n      <td>42.00000</td>\n      <td>1.200000</td>\n      <td>-1.500000</td>\n    </tr>\n    <tr>\n      <th>75%</th>\n      <td>47.00000</td>\n      <td>1.750000</td>\n      <td>-1.250000</td>\n    </tr>\n    <tr>\n      <th>max</th>\n      <td>52.00000</td>\n      <td>2.300000</td>\n      <td>-1.000000</td>\n    </tr>\n  </tbody>\n</table>\n</div>",
      "text/plain": "            GDP       Pop      Debt\ncount   3.00000  3.000000  2.000000\nmean   39.00000  1.266667 -1.500000\nstd    14.73092  1.001665  0.707107\nmin    23.00000  0.300000 -2.000000\n25%    32.50000  0.750000 -1.750000\n50%    42.00000  1.200000 -1.500000\n75%    47.00000  1.750000 -1.250000\nmax    52.00000  2.300000 -1.000000"
     },
     "execution_count": 141,
     "metadata": {},
     "output_type": "execute_result"
    }
   ],
   "source": [
    "# * from a [str]List\n",
    "data = {\n",
    "\t'Province' :['ChangChun','Sichuan','Beijin'],\n",
    "\t'Pop' : [1.2,2.3,0.3],\n",
    "\t'GDP'  : [23,42,52]\n",
    "}\n",
    "\n",
    "frame = pd.DataFrame(data,columns=['GDP','Pop','Province','Debt'],index = ['one','two','three'])\n",
    "debt = pd.Series([-1,-2,-3],index=['one','two','ThRee'])\n",
    "frame.Debt = debt\n",
    "# frame.drop(frame.loc[frame['GDP'] < 30].index,inplace=True)\n",
    "# frame.drop(['Debt','Pop'],axis='columns',inplace=True)\n",
    "# frame[frame['GDP'] > 30]\n",
    "# map applies to Series\n",
    "# apply aplies to each column or row\n",
    "# applymap applies to each element\n",
    "# frame.sort_values(by = 'GDP',ascending=False)\n",
    "# frame['Province'].map(lambda x:x.upper())\n",
    "\n",
    "# frame.iloc[1,2]\n",
    "# s = np.arange(4.)\n",
    "# s = pd.Series(s,index = ['a','b','c','d'])\n",
    "# s[s < 2]"
   ]
  },
  {
   "cell_type": "code",
   "execution_count": 65,
   "metadata": {},
   "outputs": [
    {
     "data": {
      "text/html": "<div>\n<style scoped>\n    .dataframe tbody tr th:only-of-type {\n        vertical-align: middle;\n    }\n\n    .dataframe tbody tr th {\n        vertical-align: top;\n    }\n\n    .dataframe thead th {\n        text-align: right;\n    }\n</style>\n<table border=\"1\" class=\"dataframe\">\n  <thead>\n    <tr style=\"text-align: right;\">\n      <th></th>\n      <th>a</th>\n      <th>b</th>\n      <th>c</th>\n    </tr>\n  </thead>\n  <tbody>\n    <tr>\n      <th>one</th>\n      <td>1</td>\n      <td>2</td>\n      <td>3</td>\n    </tr>\n    <tr>\n      <th>two</th>\n      <td>4</td>\n      <td>5</td>\n      <td>6</td>\n    </tr>\n    <tr>\n      <th>three</th>\n      <td>7</td>\n      <td>8</td>\n      <td>9</td>\n    </tr>\n  </tbody>\n</table>\n</div>",
      "text/plain": "       a  b  c\none    1  2  3\ntwo    4  5  6\nthree  7  8  9"
     },
     "execution_count": 65,
     "metadata": {},
     "output_type": "execute_result"
    }
   ],
   "source": [
    "# *  from 2d array\n",
    "\n",
    "data1 = [[1,2,3],[4,5,6],[7,8,9]]\n",
    "frame1 = pd.DataFrame(data1,columns=['a','b','c'],index=['one','two','three'])\n",
    "frame1"
   ]
  },
  {
   "cell_type": "code",
   "execution_count": 13,
   "metadata": {},
   "outputs": [
    {
     "data": {
      "text/plain": "Index(['SiChuan', 'JiLin', 'ShangHai'], dtype='object')"
     },
     "execution_count": 13,
     "metadata": {},
     "output_type": "execute_result"
    }
   ],
   "source": [
    "# * from dict of dict ,similar to dict of list\n",
    "\n",
    "data2 = {\n",
    "\t'SiChuan' : {'2000':2,'2001':3},\n",
    "\t'JiLin' : {'2000':1,'2001':3},\n",
    "\t'ShangHai' : {'2001':4,'2002':6}\n",
    "}\n",
    "\n",
    "frame2 = pd.DataFrame(data2)\n",
    "idx = frame2.index\n",
    "idx.insert(0,'1999')\n",
    "idx2 = frame2.columns\n",
    "idx2"
   ]
  },
  {
   "cell_type": "code",
   "execution_count": 32,
   "metadata": {},
   "outputs": [
    {
     "data": {
      "text/plain": "R    0x000000\nG    0x888888\nX    0x000000\nB    0xffffff\ndtype: object"
     },
     "execution_count": 32,
     "metadata": {},
     "output_type": "execute_result"
    }
   ],
   "source": [
    "# data manipulation\n",
    "\n",
    "\n",
    "d = pd.Series(['0x000000','0x888888','0xffffff'],index = ['R','G','B'])\n",
    "# d.index = ['B','G','R']\n",
    "# d\n",
    "d.reindex(['R','G','X','B'],method = 'bfill')\n",
    "\n"
   ]
  },
  {
   "cell_type": "code",
   "execution_count": 128,
   "metadata": {},
   "outputs": [
    {
     "data": {
      "text/plain": "0    1.0\n1    4.0\n2    3.0\n3    1.0\ndtype: float64"
     },
     "execution_count": 128,
     "metadata": {},
     "output_type": "execute_result"
    }
   ],
   "source": [
    "\n",
    "s = pd.Series([0,7,3,0])\n",
    "s.rank(method='min')"
   ]
  },
  {
   "cell_type": "code",
   "execution_count": 156,
   "metadata": {},
   "outputs": [
    {
     "data": {
      "text/plain": "c    2\na    1\ne    1\nd    1\ndtype: int64"
     },
     "execution_count": 156,
     "metadata": {},
     "output_type": "execute_result"
    }
   ],
   "source": [
    "s = pd.Series(['a','c','c','d','e'])\n",
    "# pd.Index(['a','c']).get_indexer(s)\n",
    "s.value_counts()"
   ]
  },
  {
   "cell_type": "code",
   "execution_count": 18,
   "metadata": {},
   "outputs": [
    {
     "data": {
      "text/html": "<div>\n<style scoped>\n    .dataframe tbody tr th:only-of-type {\n        vertical-align: middle;\n    }\n\n    .dataframe tbody tr th {\n        vertical-align: top;\n    }\n\n    .dataframe thead th {\n        text-align: right;\n    }\n</style>\n<table border=\"1\" class=\"dataframe\">\n  <thead>\n    <tr style=\"text-align: right;\">\n      <th></th>\n      <th>0</th>\n      <th>1</th>\n      <th>2</th>\n    </tr>\n  </thead>\n  <tbody>\n    <tr>\n      <th>0</th>\n      <td>1</td>\n      <td>2</td>\n      <td>3.0</td>\n    </tr>\n    <tr>\n      <th>2</th>\n      <td>4</td>\n      <td>5</td>\n      <td>7.0</td>\n    </tr>\n  </tbody>\n</table>\n</div>",
      "text/plain": "   0  1    2\n0  1  2  3.0\n2  4  5  7.0"
     },
     "execution_count": 18,
     "metadata": {},
     "output_type": "execute_result"
    }
   ],
   "source": [
    "f1 = pd.DataFrame([[1,2,3],[2,3],[4,5,7]])\n",
    "f1.dropna(how='any',axis=0)\n",
    "# f1\n",
    "# f1.notnull()."
   ]
  }
 ],
 "metadata": {
  "kernelspec": {
   "display_name": "Python 3.9.5 64-bit",
   "name": "python395jvsc74a57bd0e7370f93d1d0cde622a1f8e1c04877d8463912d04d973331ad4851f04de6915a"
  },
  "language_info": {
   "codemirror_mode": {
    "name": "ipython",
    "version": 3
   },
   "file_extension": ".py",
   "mimetype": "text/x-python",
   "name": "python",
   "nbconvert_exporter": "python",
   "pygments_lexer": "ipython3",
   "version": "3.9.5"
  },
  "metadata": {
   "interpreter": {
    "hash": "e7370f93d1d0cde622a1f8e1c04877d8463912d04d973331ad4851f04de6915a"
   }
  },
  "orig_nbformat": 2
 },
 "nbformat": 4,
 "nbformat_minor": 2
}